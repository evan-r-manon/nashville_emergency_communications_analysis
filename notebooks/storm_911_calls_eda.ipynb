{
 "cells": [
  {
   "cell_type": "code",
   "execution_count": 1,
   "metadata": {},
   "outputs": [],
   "source": [
    "import pandas as pd\n",
    "import matplotlib.pyplot as plt\n",
    "import seaborn as sns\n",
    "import numpy as np\n",
    "\n",
    "%matplotlib inline"
   ]
  },
  {
   "cell_type": "markdown",
   "metadata": {},
   "source": [
    "# Derecho Storm 911 Calls"
   ]
  },
  {
   "cell_type": "code",
   "execution_count": 2,
   "metadata": {},
   "outputs": [
    {
     "data": {
      "text/html": [
       "<div>\n",
       "<style scoped>\n",
       "    .dataframe tbody tr th:only-of-type {\n",
       "        vertical-align: middle;\n",
       "    }\n",
       "\n",
       "    .dataframe tbody tr th {\n",
       "        vertical-align: top;\n",
       "    }\n",
       "\n",
       "    .dataframe thead th {\n",
       "        text-align: right;\n",
       "    }\n",
       "</style>\n",
       "<table border=\"1\" class=\"dataframe\">\n",
       "  <thead>\n",
       "    <tr style=\"text-align: right;\">\n",
       "      <th></th>\n",
       "      <th>Seizure DateTime</th>\n",
       "      <th>CallTypeId</th>\n",
       "      <th>ALI Latitude</th>\n",
       "      <th>ALI Longitude</th>\n",
       "      <th>Cell Tower Address</th>\n",
       "    </tr>\n",
       "  </thead>\n",
       "  <tbody>\n",
       "    <tr>\n",
       "      <th>0</th>\n",
       "      <td>5/3/2020 16:30</td>\n",
       "      <td>911 Calls</td>\n",
       "      <td>36.247802</td>\n",
       "      <td>-86.716847</td>\n",
       "      <td>WIRELESS CALLER</td>\n",
       "    </tr>\n",
       "    <tr>\n",
       "      <th>1</th>\n",
       "      <td>5/3/2020 16:30</td>\n",
       "      <td>911 Calls</td>\n",
       "      <td>36.143108</td>\n",
       "      <td>-86.800621</td>\n",
       "      <td>1161 21ST AV S - SE</td>\n",
       "    </tr>\n",
       "    <tr>\n",
       "      <th>2</th>\n",
       "      <td>5/3/2020 16:30</td>\n",
       "      <td>911 Calls</td>\n",
       "      <td>36.100516</td>\n",
       "      <td>-87.056329</td>\n",
       "      <td>8013 C MCCRORY LN - N</td>\n",
       "    </tr>\n",
       "    <tr>\n",
       "      <th>3</th>\n",
       "      <td>5/3/2020 16:30</td>\n",
       "      <td>911 Calls</td>\n",
       "      <td>36.130021</td>\n",
       "      <td>-86.927819</td>\n",
       "      <td>5758 RIVER RD - SW</td>\n",
       "    </tr>\n",
       "    <tr>\n",
       "      <th>4</th>\n",
       "      <td>5/3/2020 16:31</td>\n",
       "      <td>911 Calls</td>\n",
       "      <td>36.142380</td>\n",
       "      <td>-86.881882</td>\n",
       "      <td>3744B ANNEX AVE - SE</td>\n",
       "    </tr>\n",
       "  </tbody>\n",
       "</table>\n",
       "</div>"
      ],
      "text/plain": [
       "  Seizure DateTime CallTypeId  ALI Latitude  ALI Longitude  \\\n",
       "0   5/3/2020 16:30  911 Calls     36.247802     -86.716847   \n",
       "1   5/3/2020 16:30  911 Calls     36.143108     -86.800621   \n",
       "2   5/3/2020 16:30  911 Calls     36.100516     -87.056329   \n",
       "3   5/3/2020 16:30  911 Calls     36.130021     -86.927819   \n",
       "4   5/3/2020 16:31  911 Calls     36.142380     -86.881882   \n",
       "\n",
       "      Cell Tower Address  \n",
       "0        WIRELESS CALLER  \n",
       "1    1161 21ST AV S - SE  \n",
       "2  8013 C MCCRORY LN - N  \n",
       "3     5758 RIVER RD - SW  \n",
       "4   3744B ANNEX AVE - SE  "
      ]
     },
     "execution_count": 2,
     "metadata": {},
     "output_type": "execute_result"
    }
   ],
   "source": [
    "derecho_911 = pd.read_csv('../data/derecho_911_calls.csv')\n",
    "derecho_911.head()"
   ]
  },
  {
   "cell_type": "code",
   "execution_count": 3,
   "metadata": {},
   "outputs": [
    {
     "data": {
      "text/html": [
       "<div>\n",
       "<style scoped>\n",
       "    .dataframe tbody tr th:only-of-type {\n",
       "        vertical-align: middle;\n",
       "    }\n",
       "\n",
       "    .dataframe tbody tr th {\n",
       "        vertical-align: top;\n",
       "    }\n",
       "\n",
       "    .dataframe thead th {\n",
       "        text-align: right;\n",
       "    }\n",
       "</style>\n",
       "<table border=\"1\" class=\"dataframe\">\n",
       "  <thead>\n",
       "    <tr style=\"text-align: right;\">\n",
       "      <th></th>\n",
       "      <th>date_time</th>\n",
       "      <th>call_type</th>\n",
       "      <th>lat</th>\n",
       "      <th>lng</th>\n",
       "      <th>cell_tower_address</th>\n",
       "    </tr>\n",
       "  </thead>\n",
       "  <tbody>\n",
       "    <tr>\n",
       "      <th>0</th>\n",
       "      <td>5/3/2020 16:30</td>\n",
       "      <td>911 Calls</td>\n",
       "      <td>36.247802</td>\n",
       "      <td>-86.716847</td>\n",
       "      <td>WIRELESS CALLER</td>\n",
       "    </tr>\n",
       "    <tr>\n",
       "      <th>1</th>\n",
       "      <td>5/3/2020 16:30</td>\n",
       "      <td>911 Calls</td>\n",
       "      <td>36.143108</td>\n",
       "      <td>-86.800621</td>\n",
       "      <td>1161 21ST AV S - SE</td>\n",
       "    </tr>\n",
       "    <tr>\n",
       "      <th>2</th>\n",
       "      <td>5/3/2020 16:30</td>\n",
       "      <td>911 Calls</td>\n",
       "      <td>36.100516</td>\n",
       "      <td>-87.056329</td>\n",
       "      <td>8013 C MCCRORY LN - N</td>\n",
       "    </tr>\n",
       "    <tr>\n",
       "      <th>3</th>\n",
       "      <td>5/3/2020 16:30</td>\n",
       "      <td>911 Calls</td>\n",
       "      <td>36.130021</td>\n",
       "      <td>-86.927819</td>\n",
       "      <td>5758 RIVER RD - SW</td>\n",
       "    </tr>\n",
       "    <tr>\n",
       "      <th>4</th>\n",
       "      <td>5/3/2020 16:31</td>\n",
       "      <td>911 Calls</td>\n",
       "      <td>36.142380</td>\n",
       "      <td>-86.881882</td>\n",
       "      <td>3744B ANNEX AVE - SE</td>\n",
       "    </tr>\n",
       "  </tbody>\n",
       "</table>\n",
       "</div>"
      ],
      "text/plain": [
       "        date_time  call_type        lat        lng     cell_tower_address\n",
       "0  5/3/2020 16:30  911 Calls  36.247802 -86.716847        WIRELESS CALLER\n",
       "1  5/3/2020 16:30  911 Calls  36.143108 -86.800621    1161 21ST AV S - SE\n",
       "2  5/3/2020 16:30  911 Calls  36.100516 -87.056329  8013 C MCCRORY LN - N\n",
       "3  5/3/2020 16:30  911 Calls  36.130021 -86.927819     5758 RIVER RD - SW\n",
       "4  5/3/2020 16:31  911 Calls  36.142380 -86.881882   3744B ANNEX AVE - SE"
      ]
     },
     "execution_count": 3,
     "metadata": {},
     "output_type": "execute_result"
    }
   ],
   "source": [
    "derecho_911.columns =['date_time', 'call_type', 'lat', 'lng', 'cell_tower_address']\n",
    "derecho_911.head()"
   ]
  },
  {
   "cell_type": "code",
   "execution_count": 4,
   "metadata": {},
   "outputs": [
    {
     "name": "stdout",
     "output_type": "stream",
     "text": [
      "<class 'pandas.core.frame.DataFrame'>\n",
      "RangeIndex: 1549 entries, 0 to 1548\n",
      "Data columns (total 5 columns):\n",
      " #   Column              Non-Null Count  Dtype  \n",
      "---  ------              --------------  -----  \n",
      " 0   date_time           1549 non-null   object \n",
      " 1   call_type           1549 non-null   object \n",
      " 2   lat                 1483 non-null   float64\n",
      " 3   lng                 1483 non-null   float64\n",
      " 4   cell_tower_address  1525 non-null   object \n",
      "dtypes: float64(2), object(3)\n",
      "memory usage: 60.6+ KB\n"
     ]
    }
   ],
   "source": [
    "derecho_911.info()"
   ]
  },
  {
   "cell_type": "code",
   "execution_count": 5,
   "metadata": {},
   "outputs": [
    {
     "data": {
      "text/plain": [
       "911 Calls    1549\n",
       "Name: call_type, dtype: int64"
      ]
     },
     "execution_count": 5,
     "metadata": {},
     "output_type": "execute_result"
    }
   ],
   "source": [
    "derecho_911['call_type'].value_counts()\n",
    "#all rows are 911 calls"
   ]
  },
  {
   "cell_type": "markdown",
   "metadata": {},
   "source": [
    "# Tornado Storm 911 Calls"
   ]
  },
  {
   "cell_type": "code",
   "execution_count": 6,
   "metadata": {},
   "outputs": [
    {
     "data": {
      "text/html": [
       "<div>\n",
       "<style scoped>\n",
       "    .dataframe tbody tr th:only-of-type {\n",
       "        vertical-align: middle;\n",
       "    }\n",
       "\n",
       "    .dataframe tbody tr th {\n",
       "        vertical-align: top;\n",
       "    }\n",
       "\n",
       "    .dataframe thead th {\n",
       "        text-align: right;\n",
       "    }\n",
       "</style>\n",
       "<table border=\"1\" class=\"dataframe\">\n",
       "  <thead>\n",
       "    <tr style=\"text-align: right;\">\n",
       "      <th></th>\n",
       "      <th>Seizure DateTime</th>\n",
       "      <th>CallTypeId</th>\n",
       "      <th>ALI Latitude</th>\n",
       "      <th>ALI Longitude</th>\n",
       "      <th>Cell Tower Address</th>\n",
       "    </tr>\n",
       "  </thead>\n",
       "  <tbody>\n",
       "    <tr>\n",
       "      <th>0</th>\n",
       "      <td>3/3/2020 0:34</td>\n",
       "      <td>911 Calls</td>\n",
       "      <td>36.072708</td>\n",
       "      <td>-86.665779</td>\n",
       "      <td>620 Richards RD - N Sector</td>\n",
       "    </tr>\n",
       "    <tr>\n",
       "      <th>1</th>\n",
       "      <td>3/3/2020 0:36</td>\n",
       "      <td>911 Calls</td>\n",
       "      <td>36.159634</td>\n",
       "      <td>-86.841904</td>\n",
       "      <td>4507D KENTUCKY AV - SE</td>\n",
       "    </tr>\n",
       "    <tr>\n",
       "      <th>2</th>\n",
       "      <td>3/3/2020 0:36</td>\n",
       "      <td>911 Calls</td>\n",
       "      <td>36.264153</td>\n",
       "      <td>-86.708862</td>\n",
       "      <td>329 THELMA ST - S Sector</td>\n",
       "    </tr>\n",
       "    <tr>\n",
       "      <th>3</th>\n",
       "      <td>3/3/2020 0:36</td>\n",
       "      <td>911 Calls</td>\n",
       "      <td>NaN</td>\n",
       "      <td>NaN</td>\n",
       "      <td>526 FOUNDRY DR</td>\n",
       "    </tr>\n",
       "    <tr>\n",
       "      <th>4</th>\n",
       "      <td>3/3/2020 0:36</td>\n",
       "      <td>911 Calls</td>\n",
       "      <td>36.233467</td>\n",
       "      <td>-86.721077</td>\n",
       "      <td>5007B RUSKIN AVE - N</td>\n",
       "    </tr>\n",
       "  </tbody>\n",
       "</table>\n",
       "</div>"
      ],
      "text/plain": [
       "  Seizure DateTime CallTypeId  ALI Latitude  ALI Longitude  \\\n",
       "0    3/3/2020 0:34  911 Calls     36.072708     -86.665779   \n",
       "1    3/3/2020 0:36  911 Calls     36.159634     -86.841904   \n",
       "2    3/3/2020 0:36  911 Calls     36.264153     -86.708862   \n",
       "3    3/3/2020 0:36  911 Calls           NaN            NaN   \n",
       "4    3/3/2020 0:36  911 Calls     36.233467     -86.721077   \n",
       "\n",
       "           Cell Tower Address  \n",
       "0  620 Richards RD - N Sector  \n",
       "1      4507D KENTUCKY AV - SE  \n",
       "2    329 THELMA ST - S Sector  \n",
       "3              526 FOUNDRY DR  \n",
       "4        5007B RUSKIN AVE - N  "
      ]
     },
     "execution_count": 6,
     "metadata": {},
     "output_type": "execute_result"
    }
   ],
   "source": [
    "tornado_911 = pd.read_csv('../data/tornado_911_calls.csv')\n",
    "tornado_911.head()"
   ]
  },
  {
   "cell_type": "code",
   "execution_count": 7,
   "metadata": {},
   "outputs": [
    {
     "data": {
      "text/html": [
       "<div>\n",
       "<style scoped>\n",
       "    .dataframe tbody tr th:only-of-type {\n",
       "        vertical-align: middle;\n",
       "    }\n",
       "\n",
       "    .dataframe tbody tr th {\n",
       "        vertical-align: top;\n",
       "    }\n",
       "\n",
       "    .dataframe thead th {\n",
       "        text-align: right;\n",
       "    }\n",
       "</style>\n",
       "<table border=\"1\" class=\"dataframe\">\n",
       "  <thead>\n",
       "    <tr style=\"text-align: right;\">\n",
       "      <th></th>\n",
       "      <th>date_time</th>\n",
       "      <th>call_type</th>\n",
       "      <th>lat</th>\n",
       "      <th>lng</th>\n",
       "      <th>cell_tower_address</th>\n",
       "    </tr>\n",
       "  </thead>\n",
       "  <tbody>\n",
       "    <tr>\n",
       "      <th>0</th>\n",
       "      <td>3/3/2020 0:34</td>\n",
       "      <td>911 Calls</td>\n",
       "      <td>36.072708</td>\n",
       "      <td>-86.665779</td>\n",
       "      <td>620 Richards RD - N Sector</td>\n",
       "    </tr>\n",
       "    <tr>\n",
       "      <th>1</th>\n",
       "      <td>3/3/2020 0:36</td>\n",
       "      <td>911 Calls</td>\n",
       "      <td>36.159634</td>\n",
       "      <td>-86.841904</td>\n",
       "      <td>4507D KENTUCKY AV - SE</td>\n",
       "    </tr>\n",
       "    <tr>\n",
       "      <th>2</th>\n",
       "      <td>3/3/2020 0:36</td>\n",
       "      <td>911 Calls</td>\n",
       "      <td>36.264153</td>\n",
       "      <td>-86.708862</td>\n",
       "      <td>329 THELMA ST - S Sector</td>\n",
       "    </tr>\n",
       "    <tr>\n",
       "      <th>3</th>\n",
       "      <td>3/3/2020 0:36</td>\n",
       "      <td>911 Calls</td>\n",
       "      <td>NaN</td>\n",
       "      <td>NaN</td>\n",
       "      <td>526 FOUNDRY DR</td>\n",
       "    </tr>\n",
       "    <tr>\n",
       "      <th>4</th>\n",
       "      <td>3/3/2020 0:36</td>\n",
       "      <td>911 Calls</td>\n",
       "      <td>36.233467</td>\n",
       "      <td>-86.721077</td>\n",
       "      <td>5007B RUSKIN AVE - N</td>\n",
       "    </tr>\n",
       "  </tbody>\n",
       "</table>\n",
       "</div>"
      ],
      "text/plain": [
       "       date_time  call_type        lat        lng          cell_tower_address\n",
       "0  3/3/2020 0:34  911 Calls  36.072708 -86.665779  620 Richards RD - N Sector\n",
       "1  3/3/2020 0:36  911 Calls  36.159634 -86.841904      4507D KENTUCKY AV - SE\n",
       "2  3/3/2020 0:36  911 Calls  36.264153 -86.708862    329 THELMA ST - S Sector\n",
       "3  3/3/2020 0:36  911 Calls        NaN        NaN              526 FOUNDRY DR\n",
       "4  3/3/2020 0:36  911 Calls  36.233467 -86.721077        5007B RUSKIN AVE - N"
      ]
     },
     "execution_count": 7,
     "metadata": {},
     "output_type": "execute_result"
    }
   ],
   "source": [
    "tornado_911.columns = ['date_time', 'call_type', 'lat', 'lng', 'cell_tower_address']\n",
    "tornado_911.head()"
   ]
  },
  {
   "cell_type": "code",
   "execution_count": 8,
   "metadata": {},
   "outputs": [
    {
     "name": "stdout",
     "output_type": "stream",
     "text": [
      "<class 'pandas.core.frame.DataFrame'>\n",
      "RangeIndex: 475 entries, 0 to 474\n",
      "Data columns (total 5 columns):\n",
      " #   Column              Non-Null Count  Dtype  \n",
      "---  ------              --------------  -----  \n",
      " 0   date_time           475 non-null    object \n",
      " 1   call_type           475 non-null    object \n",
      " 2   lat                 450 non-null    float64\n",
      " 3   lng                 450 non-null    float64\n",
      " 4   cell_tower_address  468 non-null    object \n",
      "dtypes: float64(2), object(3)\n",
      "memory usage: 18.7+ KB\n"
     ]
    }
   ],
   "source": [
    "tornado_911.info()"
   ]
  },
  {
   "cell_type": "code",
   "execution_count": 9,
   "metadata": {},
   "outputs": [
    {
     "data": {
      "text/plain": [
       "911 Calls    475\n",
       "Name: call_type, dtype: int64"
      ]
     },
     "execution_count": 9,
     "metadata": {},
     "output_type": "execute_result"
    }
   ],
   "source": [
    "tornado_911['call_type'].value_counts()\n",
    "#all rows are 911 calls"
   ]
  },
  {
   "cell_type": "markdown",
   "metadata": {},
   "source": [
    "# Derecho Computer Dispatch"
   ]
  },
  {
   "cell_type": "code",
   "execution_count": 10,
   "metadata": {},
   "outputs": [
    {
     "data": {
      "text/html": [
       "<div>\n",
       "<style scoped>\n",
       "    .dataframe tbody tr th:only-of-type {\n",
       "        vertical-align: middle;\n",
       "    }\n",
       "\n",
       "    .dataframe tbody tr th {\n",
       "        vertical-align: top;\n",
       "    }\n",
       "\n",
       "    .dataframe thead th {\n",
       "        text-align: right;\n",
       "    }\n",
       "</style>\n",
       "<table border=\"1\" class=\"dataframe\">\n",
       "  <thead>\n",
       "    <tr style=\"text-align: right;\">\n",
       "      <th></th>\n",
       "      <th>IncidentDate</th>\n",
       "      <th>Location</th>\n",
       "      <th>Latitude1</th>\n",
       "      <th>Longitude1</th>\n",
       "      <th>IncidentTypeDescription1</th>\n",
       "    </tr>\n",
       "  </thead>\n",
       "  <tbody>\n",
       "    <tr>\n",
       "      <th>0</th>\n",
       "      <td>5/3/2020 4:31:07 PM</td>\n",
       "      <td>901 KENWICK CT W</td>\n",
       "      <td>36.046877</td>\n",
       "      <td>-86.962526</td>\n",
       "      <td>ELECTRICAL HAZARD</td>\n",
       "    </tr>\n",
       "    <tr>\n",
       "      <th>1</th>\n",
       "      <td>5/3/2020 4:32:18 PM</td>\n",
       "      <td>8036 ARBOR DR</td>\n",
       "      <td>36.082491</td>\n",
       "      <td>-86.940680</td>\n",
       "      <td>ELECTRICAL HAZARD</td>\n",
       "    </tr>\n",
       "    <tr>\n",
       "      <th>2</th>\n",
       "      <td>5/3/2020 4:32:23 PM</td>\n",
       "      <td>119 DUE WEST AV E</td>\n",
       "      <td>36.248029</td>\n",
       "      <td>-86.716875</td>\n",
       "      <td>NOT ALERT COPD</td>\n",
       "    </tr>\n",
       "    <tr>\n",
       "      <th>3</th>\n",
       "      <td>5/3/2020 4:33:04 PM</td>\n",
       "      <td>630 GALLATIN PKE S</td>\n",
       "      <td>36.256491</td>\n",
       "      <td>-86.714817</td>\n",
       "      <td>ABDOMINAL PAIN</td>\n",
       "    </tr>\n",
       "    <tr>\n",
       "      <th>4</th>\n",
       "      <td>5/3/2020 4:33:52 PM</td>\n",
       "      <td>615 W HILLWOOD DR</td>\n",
       "      <td>36.129690</td>\n",
       "      <td>-86.879834</td>\n",
       "      <td>ELECTRICAL HAZARD</td>\n",
       "    </tr>\n",
       "  </tbody>\n",
       "</table>\n",
       "</div>"
      ],
      "text/plain": [
       "          IncidentDate            Location  Latitude1  Longitude1  \\\n",
       "0  5/3/2020 4:31:07 PM    901 KENWICK CT W  36.046877  -86.962526   \n",
       "1  5/3/2020 4:32:18 PM       8036 ARBOR DR  36.082491  -86.940680   \n",
       "2  5/3/2020 4:32:23 PM   119 DUE WEST AV E  36.248029  -86.716875   \n",
       "3  5/3/2020 4:33:04 PM  630 GALLATIN PKE S  36.256491  -86.714817   \n",
       "4  5/3/2020 4:33:52 PM   615 W HILLWOOD DR  36.129690  -86.879834   \n",
       "\n",
       "  IncidentTypeDescription1  \n",
       "0        ELECTRICAL HAZARD  \n",
       "1        ELECTRICAL HAZARD  \n",
       "2           NOT ALERT COPD  \n",
       "3           ABDOMINAL PAIN  \n",
       "4        ELECTRICAL HAZARD  "
      ]
     },
     "execution_count": 10,
     "metadata": {},
     "output_type": "execute_result"
    }
   ],
   "source": [
    "derecho_comp_dispatch = pd.read_csv('../data/derecho_comp_dispatch.csv')\n",
    "derecho_comp_dispatch.head()"
   ]
  },
  {
   "cell_type": "code",
   "execution_count": 11,
   "metadata": {},
   "outputs": [
    {
     "data": {
      "text/html": [
       "<div>\n",
       "<style scoped>\n",
       "    .dataframe tbody tr th:only-of-type {\n",
       "        vertical-align: middle;\n",
       "    }\n",
       "\n",
       "    .dataframe tbody tr th {\n",
       "        vertical-align: top;\n",
       "    }\n",
       "\n",
       "    .dataframe thead th {\n",
       "        text-align: right;\n",
       "    }\n",
       "</style>\n",
       "<table border=\"1\" class=\"dataframe\">\n",
       "  <thead>\n",
       "    <tr style=\"text-align: right;\">\n",
       "      <th></th>\n",
       "      <th>date_time</th>\n",
       "      <th>loc</th>\n",
       "      <th>lat</th>\n",
       "      <th>lng</th>\n",
       "      <th>incident_description</th>\n",
       "    </tr>\n",
       "  </thead>\n",
       "  <tbody>\n",
       "    <tr>\n",
       "      <th>0</th>\n",
       "      <td>5/3/2020 4:31:07 PM</td>\n",
       "      <td>901 KENWICK CT W</td>\n",
       "      <td>36.046877</td>\n",
       "      <td>-86.962526</td>\n",
       "      <td>ELECTRICAL HAZARD</td>\n",
       "    </tr>\n",
       "    <tr>\n",
       "      <th>1</th>\n",
       "      <td>5/3/2020 4:32:18 PM</td>\n",
       "      <td>8036 ARBOR DR</td>\n",
       "      <td>36.082491</td>\n",
       "      <td>-86.940680</td>\n",
       "      <td>ELECTRICAL HAZARD</td>\n",
       "    </tr>\n",
       "    <tr>\n",
       "      <th>2</th>\n",
       "      <td>5/3/2020 4:32:23 PM</td>\n",
       "      <td>119 DUE WEST AV E</td>\n",
       "      <td>36.248029</td>\n",
       "      <td>-86.716875</td>\n",
       "      <td>NOT ALERT COPD</td>\n",
       "    </tr>\n",
       "    <tr>\n",
       "      <th>3</th>\n",
       "      <td>5/3/2020 4:33:04 PM</td>\n",
       "      <td>630 GALLATIN PKE S</td>\n",
       "      <td>36.256491</td>\n",
       "      <td>-86.714817</td>\n",
       "      <td>ABDOMINAL PAIN</td>\n",
       "    </tr>\n",
       "    <tr>\n",
       "      <th>4</th>\n",
       "      <td>5/3/2020 4:33:52 PM</td>\n",
       "      <td>615 W HILLWOOD DR</td>\n",
       "      <td>36.129690</td>\n",
       "      <td>-86.879834</td>\n",
       "      <td>ELECTRICAL HAZARD</td>\n",
       "    </tr>\n",
       "  </tbody>\n",
       "</table>\n",
       "</div>"
      ],
      "text/plain": [
       "             date_time                 loc        lat        lng  \\\n",
       "0  5/3/2020 4:31:07 PM    901 KENWICK CT W  36.046877 -86.962526   \n",
       "1  5/3/2020 4:32:18 PM       8036 ARBOR DR  36.082491 -86.940680   \n",
       "2  5/3/2020 4:32:23 PM   119 DUE WEST AV E  36.248029 -86.716875   \n",
       "3  5/3/2020 4:33:04 PM  630 GALLATIN PKE S  36.256491 -86.714817   \n",
       "4  5/3/2020 4:33:52 PM   615 W HILLWOOD DR  36.129690 -86.879834   \n",
       "\n",
       "  incident_description  \n",
       "0    ELECTRICAL HAZARD  \n",
       "1    ELECTRICAL HAZARD  \n",
       "2       NOT ALERT COPD  \n",
       "3       ABDOMINAL PAIN  \n",
       "4    ELECTRICAL HAZARD  "
      ]
     },
     "execution_count": 11,
     "metadata": {},
     "output_type": "execute_result"
    }
   ],
   "source": [
    "derecho_comp_dispatch.columns = ['date_time', 'loc', 'lat', 'lng', 'incident_description']\n",
    "derecho_comp_dispatch.head()"
   ]
  },
  {
   "cell_type": "code",
   "execution_count": 12,
   "metadata": {},
   "outputs": [
    {
     "name": "stdout",
     "output_type": "stream",
     "text": [
      "<class 'pandas.core.frame.DataFrame'>\n",
      "RangeIndex: 627 entries, 0 to 626\n",
      "Data columns (total 5 columns):\n",
      " #   Column                Non-Null Count  Dtype  \n",
      "---  ------                --------------  -----  \n",
      " 0   date_time             627 non-null    object \n",
      " 1   loc                   627 non-null    object \n",
      " 2   lat                   627 non-null    float64\n",
      " 3   lng                   627 non-null    float64\n",
      " 4   incident_description  627 non-null    object \n",
      "dtypes: float64(2), object(3)\n",
      "memory usage: 24.6+ KB\n"
     ]
    }
   ],
   "source": [
    "derecho_comp_dispatch.info()"
   ]
  },
  {
   "cell_type": "markdown",
   "metadata": {},
   "source": [
    "# Tornado Computer Dispatch"
   ]
  },
  {
   "cell_type": "code",
   "execution_count": 13,
   "metadata": {},
   "outputs": [
    {
     "data": {
      "text/html": [
       "<div>\n",
       "<style scoped>\n",
       "    .dataframe tbody tr th:only-of-type {\n",
       "        vertical-align: middle;\n",
       "    }\n",
       "\n",
       "    .dataframe tbody tr th {\n",
       "        vertical-align: top;\n",
       "    }\n",
       "\n",
       "    .dataframe thead th {\n",
       "        text-align: right;\n",
       "    }\n",
       "</style>\n",
       "<table border=\"1\" class=\"dataframe\">\n",
       "  <thead>\n",
       "    <tr style=\"text-align: right;\">\n",
       "      <th></th>\n",
       "      <th>IncidentDate</th>\n",
       "      <th>Location</th>\n",
       "      <th>Latitude1</th>\n",
       "      <th>Longitude1</th>\n",
       "      <th>IncidentTypeDescription1</th>\n",
       "    </tr>\n",
       "  </thead>\n",
       "  <tbody>\n",
       "    <tr>\n",
       "      <th>0</th>\n",
       "      <td>3/3/2020 12:36:34 AM</td>\n",
       "      <td>6205 COCKRILL BEND CIR</td>\n",
       "      <td>36.182002</td>\n",
       "      <td>-86.894052</td>\n",
       "      <td>GENERAL ALARM COMMERCIAL   INDUSTRIAL BUILD</td>\n",
       "    </tr>\n",
       "    <tr>\n",
       "      <th>1</th>\n",
       "      <td>3/3/2020 12:37:24 AM</td>\n",
       "      <td>7337 COCKRILL BEND BLVD</td>\n",
       "      <td>36.175666</td>\n",
       "      <td>-86.894978</td>\n",
       "      <td>GENERAL ALARM COMMERCIAL   INDUSTRIAL BUILD</td>\n",
       "    </tr>\n",
       "    <tr>\n",
       "      <th>2</th>\n",
       "      <td>3/3/2020 12:38:17 AM</td>\n",
       "      <td>110 TUNE AIRPORT DR</td>\n",
       "      <td>36.179299</td>\n",
       "      <td>-86.883727</td>\n",
       "      <td>STRUCTURE FIRE COMMERCIAL   INDUSTRIAL</td>\n",
       "    </tr>\n",
       "    <tr>\n",
       "      <th>3</th>\n",
       "      <td>3/3/2020 12:39:40 AM</td>\n",
       "      <td>555 MARRIOTT DR</td>\n",
       "      <td>36.151108</td>\n",
       "      <td>-86.689921</td>\n",
       "      <td>GENERAL ALARM COMMERCIAL   INDUSTRIAL BUILD</td>\n",
       "    </tr>\n",
       "    <tr>\n",
       "      <th>4</th>\n",
       "      <td>3/3/2020 12:39:42 AM</td>\n",
       "      <td>1414 COUNTY HOSPITAL RD</td>\n",
       "      <td>36.177926</td>\n",
       "      <td>-86.845934</td>\n",
       "      <td>GENERAL ALARM COMMERCIAL   INDUSTRIAL BUILD</td>\n",
       "    </tr>\n",
       "  </tbody>\n",
       "</table>\n",
       "</div>"
      ],
      "text/plain": [
       "           IncidentDate                  Location  Latitude1  Longitude1  \\\n",
       "0  3/3/2020 12:36:34 AM   6205 COCKRILL BEND CIR   36.182002  -86.894052   \n",
       "1  3/3/2020 12:37:24 AM  7337 COCKRILL BEND BLVD   36.175666  -86.894978   \n",
       "2  3/3/2020 12:38:17 AM      110 TUNE AIRPORT DR   36.179299  -86.883727   \n",
       "3  3/3/2020 12:39:40 AM          555 MARRIOTT DR   36.151108  -86.689921   \n",
       "4  3/3/2020 12:39:42 AM  1414 COUNTY HOSPITAL RD   36.177926  -86.845934   \n",
       "\n",
       "                      IncidentTypeDescription1  \n",
       "0  GENERAL ALARM COMMERCIAL   INDUSTRIAL BUILD  \n",
       "1  GENERAL ALARM COMMERCIAL   INDUSTRIAL BUILD  \n",
       "2       STRUCTURE FIRE COMMERCIAL   INDUSTRIAL  \n",
       "3  GENERAL ALARM COMMERCIAL   INDUSTRIAL BUILD  \n",
       "4  GENERAL ALARM COMMERCIAL   INDUSTRIAL BUILD  "
      ]
     },
     "execution_count": 13,
     "metadata": {},
     "output_type": "execute_result"
    }
   ],
   "source": [
    "tornado_comp_dispatch = pd.read_csv('../data/tornado_comp_dispatch.csv')\n",
    "tornado_comp_dispatch.head()"
   ]
  },
  {
   "cell_type": "code",
   "execution_count": 14,
   "metadata": {},
   "outputs": [
    {
     "data": {
      "text/html": [
       "<div>\n",
       "<style scoped>\n",
       "    .dataframe tbody tr th:only-of-type {\n",
       "        vertical-align: middle;\n",
       "    }\n",
       "\n",
       "    .dataframe tbody tr th {\n",
       "        vertical-align: top;\n",
       "    }\n",
       "\n",
       "    .dataframe thead th {\n",
       "        text-align: right;\n",
       "    }\n",
       "</style>\n",
       "<table border=\"1\" class=\"dataframe\">\n",
       "  <thead>\n",
       "    <tr style=\"text-align: right;\">\n",
       "      <th></th>\n",
       "      <th>date_time</th>\n",
       "      <th>loc</th>\n",
       "      <th>lat</th>\n",
       "      <th>lng</th>\n",
       "      <th>incident_description</th>\n",
       "    </tr>\n",
       "  </thead>\n",
       "  <tbody>\n",
       "    <tr>\n",
       "      <th>0</th>\n",
       "      <td>3/3/2020 12:36:34 AM</td>\n",
       "      <td>6205 COCKRILL BEND CIR</td>\n",
       "      <td>36.182002</td>\n",
       "      <td>-86.894052</td>\n",
       "      <td>GENERAL ALARM COMMERCIAL   INDUSTRIAL BUILD</td>\n",
       "    </tr>\n",
       "    <tr>\n",
       "      <th>1</th>\n",
       "      <td>3/3/2020 12:37:24 AM</td>\n",
       "      <td>7337 COCKRILL BEND BLVD</td>\n",
       "      <td>36.175666</td>\n",
       "      <td>-86.894978</td>\n",
       "      <td>GENERAL ALARM COMMERCIAL   INDUSTRIAL BUILD</td>\n",
       "    </tr>\n",
       "    <tr>\n",
       "      <th>2</th>\n",
       "      <td>3/3/2020 12:38:17 AM</td>\n",
       "      <td>110 TUNE AIRPORT DR</td>\n",
       "      <td>36.179299</td>\n",
       "      <td>-86.883727</td>\n",
       "      <td>STRUCTURE FIRE COMMERCIAL   INDUSTRIAL</td>\n",
       "    </tr>\n",
       "    <tr>\n",
       "      <th>3</th>\n",
       "      <td>3/3/2020 12:39:40 AM</td>\n",
       "      <td>555 MARRIOTT DR</td>\n",
       "      <td>36.151108</td>\n",
       "      <td>-86.689921</td>\n",
       "      <td>GENERAL ALARM COMMERCIAL   INDUSTRIAL BUILD</td>\n",
       "    </tr>\n",
       "    <tr>\n",
       "      <th>4</th>\n",
       "      <td>3/3/2020 12:39:42 AM</td>\n",
       "      <td>1414 COUNTY HOSPITAL RD</td>\n",
       "      <td>36.177926</td>\n",
       "      <td>-86.845934</td>\n",
       "      <td>GENERAL ALARM COMMERCIAL   INDUSTRIAL BUILD</td>\n",
       "    </tr>\n",
       "  </tbody>\n",
       "</table>\n",
       "</div>"
      ],
      "text/plain": [
       "              date_time                       loc        lat        lng  \\\n",
       "0  3/3/2020 12:36:34 AM   6205 COCKRILL BEND CIR   36.182002 -86.894052   \n",
       "1  3/3/2020 12:37:24 AM  7337 COCKRILL BEND BLVD   36.175666 -86.894978   \n",
       "2  3/3/2020 12:38:17 AM      110 TUNE AIRPORT DR   36.179299 -86.883727   \n",
       "3  3/3/2020 12:39:40 AM          555 MARRIOTT DR   36.151108 -86.689921   \n",
       "4  3/3/2020 12:39:42 AM  1414 COUNTY HOSPITAL RD   36.177926 -86.845934   \n",
       "\n",
       "                          incident_description  \n",
       "0  GENERAL ALARM COMMERCIAL   INDUSTRIAL BUILD  \n",
       "1  GENERAL ALARM COMMERCIAL   INDUSTRIAL BUILD  \n",
       "2       STRUCTURE FIRE COMMERCIAL   INDUSTRIAL  \n",
       "3  GENERAL ALARM COMMERCIAL   INDUSTRIAL BUILD  \n",
       "4  GENERAL ALARM COMMERCIAL   INDUSTRIAL BUILD  "
      ]
     },
     "execution_count": 14,
     "metadata": {},
     "output_type": "execute_result"
    }
   ],
   "source": [
    "tornado_comp_dispatch.columns = ['date_time', 'loc', 'lat', 'lng', 'incident_description']\n",
    "tornado_comp_dispatch.head()"
   ]
  },
  {
   "cell_type": "code",
   "execution_count": 15,
   "metadata": {},
   "outputs": [
    {
     "name": "stdout",
     "output_type": "stream",
     "text": [
      "<class 'pandas.core.frame.DataFrame'>\n",
      "RangeIndex: 260 entries, 0 to 259\n",
      "Data columns (total 5 columns):\n",
      " #   Column                Non-Null Count  Dtype  \n",
      "---  ------                --------------  -----  \n",
      " 0   date_time             260 non-null    object \n",
      " 1   loc                   260 non-null    object \n",
      " 2   lat                   260 non-null    float64\n",
      " 3   lng                   260 non-null    float64\n",
      " 4   incident_description  260 non-null    object \n",
      "dtypes: float64(2), object(3)\n",
      "memory usage: 10.3+ KB\n"
     ]
    }
   ],
   "source": [
    "tornado_comp_dispatch.info()"
   ]
  },
  {
   "cell_type": "code",
   "execution_count": 21,
   "metadata": {},
   "outputs": [],
   "source": [
    "tornado_911.to_csv(r'../data/tornado_911_clean.csv', index = False)"
   ]
  },
  {
   "cell_type": "code",
   "execution_count": 17,
   "metadata": {},
   "outputs": [],
   "source": [
    "tornado_comp_dispatch.to_csv(r'../data/tornado_comp_dispatch_clean.csv', index = False)"
   ]
  },
  {
   "cell_type": "code",
   "execution_count": 18,
   "metadata": {},
   "outputs": [],
   "source": [
    "derecho_911.to_csv(r'../data/derecho_911_calls_clean.csv', index = False)"
   ]
  },
  {
   "cell_type": "code",
   "execution_count": 19,
   "metadata": {},
   "outputs": [],
   "source": [
    "derecho_comp_dispatch.to_csv(r'../data/derecho_comp_dispatch_clean.csv', index = False)"
   ]
  },
  {
   "cell_type": "code",
   "execution_count": null,
   "metadata": {},
   "outputs": [],
   "source": []
  }
 ],
 "metadata": {
  "kernelspec": {
   "display_name": "Python 3",
   "language": "python",
   "name": "python3"
  },
  "language_info": {
   "codemirror_mode": {
    "name": "ipython",
    "version": 3
   },
   "file_extension": ".py",
   "mimetype": "text/x-python",
   "name": "python",
   "nbconvert_exporter": "python",
   "pygments_lexer": "ipython3",
   "version": "3.8.5"
  }
 },
 "nbformat": 4,
 "nbformat_minor": 4
}
